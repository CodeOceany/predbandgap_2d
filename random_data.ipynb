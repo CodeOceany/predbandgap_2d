{
 "cells": [
  {
   "cell_type": "code",
   "execution_count": 11,
   "metadata": {},
   "outputs": [
    {
     "name": "stdout",
     "output_type": "stream",
     "text": [
      "[36, 18, 67, 32, 128, 117, 122, 99, 55, 26, 126, 9, 101, 112, 2, 116]\n"
     ]
    }
   ],
   "source": [
    "import random\n",
    "random.seed(1)\n",
    "randomdata = range(2,137)  \n",
    "randomlist = random.sample(randomdata,16)  \n",
    "print(randomlist)  "
   ]
  }
 ],
 "metadata": {
  "kernelspec": {
   "display_name": "Python 3",
   "language": "python",
   "name": "python3"
  },
  "language_info": {
   "codemirror_mode": {
    "name": "ipython",
    "version": 3
   },
   "file_extension": ".py",
   "mimetype": "text/x-python",
   "name": "python",
   "nbconvert_exporter": "python",
   "pygments_lexer": "ipython3",
   "version": "3.6.4"
  }
 },
 "nbformat": 4,
 "nbformat_minor": 2
}
